{
 "cells": [
  {
   "cell_type": "markdown",
   "id": "c188683b",
   "metadata": {
    "papermill": {
     "duration": 0.04045,
     "end_time": "2021-09-28T21:33:54.792497",
     "exception": false,
     "start_time": "2021-09-28T21:33:54.752047",
     "status": "completed"
    },
    "tags": []
   },
   "source": [
    "------------------------------------------\n",
    "------------------------------------------\n",
    "\n",
    "# <p style=\"background-color:#CCE3F2; font-family:newtimeroman; font-size:120%; text-align:center; border-radius: 15px 50px;\">Object Oriented Programming (OOP) approach for <br>Data Science problems.</p>\n",
    "\n",
    "\n",
    "# <p style=\"background-color:gray; font-family:newtimeroman; font-size:150%; text-align:center; border-radius: 10px 100px; color:black; hight:max\"> Upvote my work if you found it useful.🎯 </p>\n",
    "\n",
    "------------------------------------------\n",
    "------------------------------------------\n"
   ]
  },
  {
   "cell_type": "markdown",
   "id": "fbc9fc30",
   "metadata": {
    "papermill": {
     "duration": 0.040044,
     "end_time": "2021-09-28T21:33:54.872613",
     "exception": false,
     "start_time": "2021-09-28T21:33:54.832569",
     "status": "completed"
    },
    "tags": []
   },
   "source": [
    "<p style=\"background-color:#CCE3F2; font-family:newtimeroman; font-size:200%; text-align:center; border-radius: 10px 500px;\"><b>Introduction\n",
    "    </b>\n",
    "</p>\n",
    "<b>The objective of this project is to apply Object Oriented Programming(OOP) approach for Data Science problems.<br>\n",
    "Object oriented programming is largely based on personal experience and is open to development. For this reason, code design can be improved according to the comments to be made for the kernel. Comments and criticisms will provide a better code design.<br>\n",
    "This project consists of five classes:</b>\n",
    "<ul>\n",
    "    <li>Class I   : <a href=\"#hpopp_class\"><b>HouseObjectOriented Class.</b></a></li>\n",
    "    <ul>\n",
    "        <li>1) Adds the data to the object.\n",
    "        <li>2) Concats the data in one DataFrame.\n",
    "        <li>3) Shows information about the data.\n",
    "        <li>4) Preprocess the data before Ml part.\n",
    "        <li>5) Adds the data after Preprocessing for the ML part.</li>\n",
    "    </ul><br>\n",
    "    <li>Class II  : <a href=\"#info_class\"><b>Information Class.</b></a></li>\n",
    "    <ul>\n",
    "        <li>1) Calculates the missing values.\n",
    "        <li>2) Gets feature dtypes.\n",
    "        <li>3) Gets feature names.\n",
    "        <li>4) Gets shape of the data.\n",
    "        <li>5) Prints all of these information.</li>\n",
    "    </ul><br>\n",
    "    <li>Class III : <a href=\"#pre_process_class\"><b>Pre-processing Class.</b></a></li>\n",
    "    <ul>\n",
    "        <li>1) Drops the unwanted columns and rows.\n",
    "        <li>2) Fills the null values with (mean, meadian, zero,....etc).\n",
    "        <li>3) Applys feature engineering to the data like adding new columns, transforming columns,...etc.\n",
    "        <li>4) Encodes the data using label encoder to be able to apply ML algorithms.\n",
    "        <li>5) Converts your data to dummies values.\n",
    "        <li>6) Normalizes the data before ML.</li>\n",
    "    </ul><br>\n",
    "    <li>Class IV  : <a href=\"#processor_class\"><b>Preprocessor Class</b></a></li>\n",
    "    <ul>\n",
    "        <li>1) Applys the Pre_processing techniques and returns the new data.</li>\n",
    "    </ul><br>\n",
    "    <li>Class V   : <a href=\"#ml_class\"><b>ML Class</b></a></li>\n",
    "    <ul>\n",
    "        <li>1) Initializes the ML algorithms.\n",
    "        <li>2) Show the available ML algorithms.\n",
    "        <li>3) Applys Train-Test evaluation and shows the results.\n",
    "        <li>4) Applys Cross-Validation evaluation and shows the results.\n",
    "        <li>5) Visualizes the results of Train-Test and Cross-Validation evaluations.\n",
    "        <li>6) Find the best model and then fits it to the data.\n",
    "        <li>7) Show the Predictions in a DataFrame.\n",
    "        <li>8) Save the predictions to a csv file.</li>\n",
    "    </ul>\n",
    "</ul>\n",
    "<br>\n",
    "<p style=\"background-color:#CCE3F2; font-family:newtimeroman; font-size:200%; text-align:center; border-radius: 10px 100px;\"><a id=\"outlines\">Outlines : </a></p>\n",
    "<ul>\n",
    "    <li><a href=\"#1.0\"><b>Create HouseObjectOriented object</b></a>\n",
    "    <li><a href=\"#1.1\"><b>Adding our data</b></a>\n",
    "    <li><a href=\"#2.0\"><b>Display Information about the data</b></a>\n",
    "    <li><a href=\"#3.0\"><b>Pre-Process the data</b></a>\n",
    "    <li><a href=\"#2.1\"><b>Display Information about the data after Pre-Processing</b></a>\n",
    "    <li><a href=\"#4.0\"><b>Create a Machine Learning object</b></a>\n",
    "    <li><a href=\"#4.1\"><b>Show the available algorithms</b></a>\n",
    "    <li><a href=\"#4.2\"><b>Initialize the ML Regressors</b></a>\n",
    "    <li><a href=\"#4.3\"><b>Train-Test Validation</b></a>\n",
    "    <li><a href=\"#4.4\"><b>Visualize the results of train-test validation</b></a>\n",
    "    <li><a href=\"#4.5\"><b>Applying Cross-Validation</b></a>\n",
    "    <li><a href=\"#4.6\"><b>Visualize the results of Cross-Validation</b></a>\n",
    "    <li><a href=\"#4.7\"><b>Find the best model and fit it to the data</b></a>\n",
    "    <li><a href=\"#4.8\"><b>Predict and show the prediction</b></a>\n",
    "    <li><a href=\"#4.9\"><b>Save the predictions to a csv file</b></a></li>\n",
    "</ul>"
   ]
  },
  {
   "cell_type": "markdown",
   "id": "7d76cbcd",
   "metadata": {
    "papermill": {
     "duration": 0.039994,
     "end_time": "2021-09-28T21:33:54.952556",
     "exception": false,
     "start_time": "2021-09-28T21:33:54.912562",
     "status": "completed"
    },
    "tags": []
   },
   "source": [
    "<b><a href='https://www.kaggle.com/serkanpeldek/object-oriented-titanics'>Recommended Notebook</a>   "
   ]
  },
  {
   "attachments": {},
   "cell_type": "markdown",
   "id": "210053e6",
   "metadata": {},
   "source": [
    "Preinstall infrastructure of ssh connection to collab"
   ]
  },
  {
   "cell_type": "code",
   "execution_count": null,
   "id": "af26eb96",
   "metadata": {},
   "outputs": [],
   "source": [
    "%pip install colab_ssh --upgrade\n",
    "from colab_ssh import launch_ssh_cloudflared, init_git_cloudflared\n",
    "launch_ssh_cloudflared(password=\"mypassword\")"
   ]
  },
  {
   "attachments": {},
   "cell_type": "markdown",
   "id": "c1ce5e4e",
   "metadata": {},
   "source": [
    "Mount data from relevant data directory in drive"
   ]
  },
  {
   "cell_type": "code",
   "execution_count": null,
   "id": "5630f586",
   "metadata": {},
   "outputs": [],
   "source": [
    "try:\n",
    "    from google.colab import drive\n",
    "    drive.mount(\"/content/drive/\", force_remount=True)\n",
    "    google_drive_prefix = \"/content/drive/My Drive\"\n",
    "    data_prefix = \"{}/mnist/\".format(google_drive_prefix)\n",
    "except ModuleNotFoundError: \n",
    "    data_prefix = \"data/\""
   ]
  },
  {
   "cell_type": "code",
   "execution_count": null,
   "id": "6ff0221d",
   "metadata": {},
   "outputs": [],
   "source": [
    "# load the data\n",
    "\n",
    "f = gzip.open(\"{}/train-images-idx3-ubyte.gz\".format(data_prefix), 'r')"
   ]
  },
  {
   "cell_type": "markdown",
   "id": "b33ec748",
   "metadata": {
    "papermill": {
     "duration": 0.038898,
     "end_time": "2021-09-28T21:33:55.030365",
     "exception": false,
     "start_time": "2021-09-28T21:33:54.991467",
     "status": "completed"
    },
    "tags": []
   },
   "source": [
    "# <p style=\"background-color:skyblue; font-family:newtimeroman; font-size:100%; text-align:center; border-radius: 15px 50px;\">Importing necessary modules and libraries📚</p>"
   ]
  },
  {
   "cell_type": "code",
   "execution_count": null,
   "id": "e2e699d4",
   "metadata": {
    "execution": {
     "iopub.execute_input": "2021-09-28T21:33:55.124492Z",
     "iopub.status.busy": "2021-09-28T21:33:55.123627Z",
     "iopub.status.idle": "2021-09-28T21:34:00.160159Z",
     "shell.execute_reply": "2021-09-28T21:34:00.159403Z",
     "shell.execute_reply.started": "2021-09-28T21:16:15.672601Z"
    },
    "papermill": {
     "duration": 5.091071,
     "end_time": "2021-09-28T21:34:00.160356",
     "exception": false,
     "start_time": "2021-09-28T21:33:55.069285",
     "status": "completed"
    },
    "tags": []
   },
   "outputs": [],
   "source": [
    "#main libraries\n",
    "import os\n",
    "import numpy as np\n",
    "import pandas as pd\n",
    "import warnings\n",
    "\n",
    "#visualization libraries\n",
    "import plotly \n",
    "import plotly.graph_objs as go\n",
    "import plotly.io as pio\n",
    "import plotly.express as px\n",
    "from plotly.offline import iplot, init_notebook_mode\n",
    "import cufflinks as cf\n",
    "\n",
    "#machine learning libraries:\n",
    "from sklearn.svm import SVR\n",
    "from sklearn.pipeline import make_pipeline\n",
    "from sklearn.model_selection import cross_validate, train_test_split, KFold, cross_val_score\n",
    "from sklearn.preprocessing  import StandardScaler, LabelEncoder, RobustScaler\n",
    "from sklearn.ensemble import RandomForestRegressor\n",
    "from xgboost import XGBRegressor\n",
    "from sklearn.linear_model import ElasticNet, Lasso,  BayesianRidge, LassoLarsIC\n",
    "from sklearn.kernel_ridge import KernelRidge\n",
    "from sklearn.ensemble import GradientBoostingRegressor\n",
    "from sklearn.metrics import mean_squared_error, mean_absolute_error, r2_score\n",
    "import xgboost as xgb\n",
    "\n",
    "# You can go offline on demand by using\n",
    "cf.go_offline() \n",
    "\n",
    "# initiate notebook for offline plot\n",
    "init_notebook_mode(connected=False)         \n",
    "\n",
    "# set some display options:\n",
    "colors = px.colors.qualitative.Prism\n",
    "pio.templates.default = \"plotly_white\"\n",
    "\n",
    "# see our files:\n",
    "# for dirname, _, filenames in os.walk('/kaggle/input'):\n",
    "#     for filename in filenames:\n",
    "#         print(os.path.join(dirname, filename))"
   ]
  },
  {
   "cell_type": "code",
   "execution_count": null,
   "id": "a274203f",
   "metadata": {
    "execution": {
     "iopub.execute_input": "2021-09-28T21:34:00.462556Z",
     "iopub.status.busy": "2021-09-28T21:34:00.461784Z",
     "iopub.status.idle": "2021-09-28T21:34:00.464525Z",
     "shell.execute_reply": "2021-09-28T21:34:00.465000Z",
     "shell.execute_reply.started": "2021-09-28T21:16:15.855084Z"
    },
    "papermill": {
     "duration": 0.154649,
     "end_time": "2021-09-28T21:34:00.465160",
     "exception": false,
     "start_time": "2021-09-28T21:34:00.310511",
     "status": "completed"
    },
    "tags": []
   },
   "outputs": [],
   "source": [
    "warnings.filterwarnings('ignore')\n",
    "print(\"Warnings were ignored\")"
   ]
  },
  {
   "cell_type": "markdown",
   "id": "047810c5",
   "metadata": {
    "papermill": {
     "duration": 0.14388,
     "end_time": "2021-09-28T21:34:00.753314",
     "exception": false,
     "start_time": "2021-09-28T21:34:00.609434",
     "status": "completed"
    },
    "tags": []
   },
   "source": [
    "# <p style=\"background-color:skyblue; font-family:newtimeroman; font-size:100%; text-align:center; border-radius: 15px 50px;\">Creating our Classes 🐍</p>"
   ]
  },
  {
   "cell_type": "markdown",
   "id": "41fc79f8",
   "metadata": {
    "papermill": {
     "duration": 0.14548,
     "end_time": "2021-09-28T21:34:01.042972",
     "exception": false,
     "start_time": "2021-09-28T21:34:00.897492",
     "status": "completed"
    },
    "tags": []
   },
   "source": [
    "<a id=\"info_class\"></a>\n",
    "<h1>Information Class</h1>"
   ]
  },
  {
   "cell_type": "code",
   "execution_count": null,
   "id": "91af69c5",
   "metadata": {
    "execution": {
     "iopub.execute_input": "2021-09-28T21:34:01.355100Z",
     "iopub.status.busy": "2021-09-28T21:34:01.354073Z",
     "iopub.status.idle": "2021-09-28T21:34:01.357215Z",
     "shell.execute_reply": "2021-09-28T21:34:01.356592Z",
     "shell.execute_reply.started": "2021-09-28T21:16:15.862465Z"
    },
    "papermill": {
     "duration": 0.16473,
     "end_time": "2021-09-28T21:34:01.357376",
     "exception": false,
     "start_time": "2021-09-28T21:34:01.192646",
     "status": "completed"
    },
    "tags": []
   },
   "outputs": [],
   "source": [
    "class Information:\n",
    "    \"\"\"\n",
    "    This class shows some information about the dataset\n",
    "    \"\"\"\n",
    "    def __init__(self):\n",
    "        \n",
    "        print()\n",
    "        print('Information object is created')\n",
    "        print()\n",
    "        \n",
    "    def get_missing_values(self, data):\n",
    "        \"\"\"\n",
    "        This function finds the missing values in the dataset\n",
    "        ...\n",
    "        Attributes\n",
    "        ----------\n",
    "        data : Pandas DataFrame\n",
    "        The data you want to see information about\n",
    "        \n",
    "        Returns\n",
    "        ----------\n",
    "        A Pandas Series contains the missing values in descending order\n",
    "        \"\"\"\n",
    "        #get the sum of all missing values in the dataset\n",
    "        missing_values = data.isnull().sum()\n",
    "        #sorting the missing values in a pandas Series\n",
    "        missing_values = missing_values.sort_values(ascending=False)\n",
    "        \n",
    "        #returning the missing values Series\n",
    "        return missing_values\n",
    "    \n",
    "    def _info_(self, data):\n",
    "        \"\"\"\n",
    "        This function shows some information about the data like \n",
    "        Feature names,data type, number of missing values for each feature \n",
    "        and ten samples of each feature\n",
    "        ...\n",
    "        Attributes\n",
    "        ----------\n",
    "        data : Pandas DataFrame\n",
    "            The data you want to see information about\n",
    "        \n",
    "        Returns\n",
    "        ----------\n",
    "        Information about the DataFrame\n",
    "        \"\"\"\n",
    "        self.data=data\n",
    "        feature_dtypes=self.data.dtypes\n",
    "        self.missing_values=self.get_missing_values(self.data)\n",
    "        feature_names=self.missing_values.index.values\n",
    "        missing_values=self.missing_values.values\n",
    "        rows, columns=data.shape\n",
    "\n",
    "        print(\"=\" * 50)\n",
    "        print('====> This data contains {} rows and {} columns'.format(rows,columns))\n",
    "        print(\"=\" * 50)\n",
    "        print()\n",
    "        \n",
    "        print(\"{:13} {:13} {:30} {:15}\".format('Feature Name'.upper(),\n",
    "                                               'Data Format'.upper(),\n",
    "                                               'Null values(Num-Perc)'.upper(),\n",
    "                                               'Seven Samples'.upper()))\n",
    "        for feature_name, dtype, missing_value in zip(feature_names,feature_dtypes[feature_names],missing_values):\n",
    "            print(\"{:15} {:14} {:20}\".format(feature_name,\n",
    "                                             str(dtype), \n",
    "                                             str(missing_value) + ' - ' + \n",
    "                                             str(round(100*missing_value/sum(self.missing_values),3))+' %'), end=\"\")\n",
    "\n",
    "            for i in np.random.randint(0,len(data),7):\n",
    "                print(data[feature_name].iloc[i], end=\",\")\n",
    "            print()\n",
    "\n",
    "        print(\"=\"*50)"
   ]
  },
  {
   "cell_type": "markdown",
   "id": "863a2b28",
   "metadata": {
    "papermill": {
     "duration": 0.145646,
     "end_time": "2021-09-28T21:34:01.648373",
     "exception": false,
     "start_time": "2021-09-28T21:34:01.502727",
     "status": "completed"
    },
    "tags": []
   },
   "source": [
    "<a href=\"#outlines\"><b>Up to outlines</b>"
   ]
  },
  {
   "cell_type": "markdown",
   "id": "625c144d",
   "metadata": {
    "papermill": {
     "duration": 0.146557,
     "end_time": "2021-09-28T21:34:01.941925",
     "exception": false,
     "start_time": "2021-09-28T21:34:01.795368",
     "status": "completed"
    },
    "tags": []
   },
   "source": [
    "<a id=\"pre_process_class\"></a>\n",
    "<h1>Data pre-processing Class</h1>"
   ]
  },
  {
   "cell_type": "code",
   "execution_count": null,
   "id": "943d3c4e",
   "metadata": {
    "execution": {
     "iopub.execute_input": "2021-09-28T21:34:02.267851Z",
     "iopub.status.busy": "2021-09-28T21:34:02.267060Z",
     "iopub.status.idle": "2021-09-28T21:34:02.270321Z",
     "shell.execute_reply": "2021-09-28T21:34:02.270776Z",
     "shell.execute_reply.started": "2021-09-28T21:16:15.983415Z"
    },
    "papermill": {
     "duration": 0.182847,
     "end_time": "2021-09-28T21:34:02.270944",
     "exception": false,
     "start_time": "2021-09-28T21:34:02.088097",
     "status": "completed"
    },
    "tags": []
   },
   "outputs": [],
   "source": [
    "class Pre_processing:\n",
    "    \"\"\"\n",
    "    This class prepares the data berfore applying ML\n",
    "    \"\"\"\n",
    "    def __init__(self):\n",
    "        \n",
    "        print()\n",
    "        print('pre-processing object is created')\n",
    "        print()        \n",
    "        \n",
    "    def drop(self, data, drop_strategies):\n",
    "        \"\"\"\n",
    "        This function is used to drop a column or row from the dataset.\n",
    "        ...\n",
    "        Attributes\n",
    "        ----------\n",
    "        data : Pandas DataFrame\n",
    "            The data you want to drop data from.\n",
    "        drop_strategies : A list of tuples, each tuple has the data to drop,\n",
    "        and the axis(0 or 1)\n",
    "        \n",
    "        Returns\n",
    "        ----------\n",
    "        A new dataset after dropping the unwanted data.\n",
    "        \"\"\"\n",
    "        \n",
    "        self.data=data\n",
    "        \n",
    "        for columns, ax in drop_strategies:\n",
    "            if len(columns)==1:\n",
    "                self.data=self.data.drop(labels=column, axis=ax)\n",
    "            else:\n",
    "                for column in columns:\n",
    "                    self.data=self.data.drop(labels=column, axis=ax)\n",
    "        return self.data\n",
    "\n",
    "    def fillna(self, ntrain, fill_strategies):       \n",
    "        \"\"\"\n",
    "        This function fills NA/NaN values in a specific column using a specified method(zero,mean,...)\n",
    "        ...\n",
    "        Attributes\n",
    "        ----------\n",
    "        data : Pandas DataFrame\n",
    "            The data you want to impute its missing values\n",
    "        fill_strategies : A dictionary, its keys represent the columns, \n",
    "        and the values represent the value to use to fill the Nulls.\n",
    "        \n",
    "        Returns\n",
    "        ----------\n",
    "        A new dataset without null values.\n",
    "        \"\"\"\n",
    "        def fill(column, fill_with):\n",
    "            \n",
    "                if str(fill_with).lower() in ['zero', 0]:\n",
    "                    self.data[column].fillna(0, inplace=True)\n",
    "                elif str(fill_with).lower()=='mode':\n",
    "                    self.data[column].fillna(self.data[column].mode()[0], inplace=True)\n",
    "                elif str(fill_with).lower()=='mean':\n",
    "                    self.data[column].fillna(self.data[column].mean(), inplace=True)\n",
    "                elif str(fill_with).lower()=='median':\n",
    "                    self.data[column].fillna(self.data[column].median(), inplace=True)\n",
    "                else:\n",
    "                    self.data[column].fillna(fill_with, inplace=True)\n",
    "\n",
    "                return self.data\n",
    "            \n",
    "        #LotFrontage: Linear feet of street connected to property\n",
    "        self.data['LotFrontage'] = self.data.groupby('Neighborhood')['LotFrontage'].apply(lambda x: x.fillna(x.median())).values\n",
    "\n",
    "        # Meaning that NO Masonry veneer\n",
    "        self.data['MSZoning'] = self.data['MSZoning'].transform(lambda x: x.fillna(x.mode().values[0]))\n",
    "\n",
    "        #imputing columns according to its strategy\n",
    "        for columns, strategy in fill_strategies:\n",
    "            if len(columns)==1:\n",
    "                fill(columns[0], strategy)\n",
    "            else:\n",
    "                for column in columns:\n",
    "                    fill(column, strategy)\n",
    "\n",
    "        return self.data\n",
    "    \n",
    "    def feature_engineering(self):\n",
    "        \"\"\"\n",
    "        This function is used to apply some feature engineering on the data.\n",
    "        ...\n",
    "        Attributes\n",
    "        ----------\n",
    "        data : Pandas DataFrame\n",
    "            The data you want to apply feature engineering on.\n",
    "        \n",
    "        Returns\n",
    "        ----------\n",
    "        A new dataset with new columns and some additions.\n",
    "        \"\"\"\n",
    "        # creating new columns\n",
    "        self.data['TotalSF'] = self.data['TotalBsmtSF'] + self.data['1stFlrSF'] + self.data['2ndFlrSF']\n",
    "                \n",
    "        # Convert some columns from numeric to string\n",
    "        self.data[['YrSold','MSSubClass','MoSold','OverallCond']] = self.data[['YrSold','MSSubClass','MoSold','OverallCond']].astype(str)\n",
    "        \n",
    "        # Convert some columns from numeric to int\n",
    "        self.data[['BsmtHalfBath','BsmtFinSF1', 'BsmtFinSF2','BsmtFullBath','BsmtUnfSF','GarageCars','GarageArea']]\\\n",
    "        =self.data[['BsmtHalfBath','BsmtFinSF1', 'BsmtFinSF2','BsmtFullBath','BsmtUnfSF','GarageCars','GarageArea']].astype(int)\n",
    "\n",
    "        return self.data    \n",
    "   \n",
    "    def label_encoder(self, columns):\n",
    "        \"\"\"\n",
    "        This function is used to encode the data to categorical values to benefit from increasing or \n",
    "        decreasing to build the model    \n",
    "        ...\n",
    "        Attributes\n",
    "        ----------\n",
    "        data : Pandas DataFrame\n",
    "            The data you want to encode.\n",
    "        columns : columns to convert.\n",
    "        \n",
    "        Returns\n",
    "        ----------\n",
    "        A dataset without categorical data.\n",
    "        \"\"\"\n",
    "\n",
    "        # Convert all categorical collumns to numeric values\n",
    "        lbl = LabelEncoder() \n",
    "        \n",
    "        self.data[columns] = self.data[columns].apply(lambda x:lbl.fit_transform(x.astype(str)).astype(int))\n",
    "        \n",
    "        return self.data \n",
    "    \n",
    "    def get_dummies(self, columns):\n",
    "        \"\"\"\n",
    "        This function is used to convert the data to dummies values.\n",
    "        ...\n",
    "        Attributes\n",
    "        ----------\n",
    "        data : Pandas DataFrame\n",
    "            The data you want to convert.\n",
    "        \n",
    "        Returns\n",
    "        ----------\n",
    "        A dataset with dummies.\n",
    "        \"\"\"\n",
    "        \n",
    "        # convert our categorical columns to dummies\n",
    "        for col in columns:\n",
    "            dumm = pd.get_dummies(self.data[col], prefix = col, dtype=int)\n",
    "            self.data = pd.concat([self.data, dumm], axis=1)\n",
    "\n",
    "        self.data.drop(columns, axis=1, inplace=True)\n",
    "        \n",
    "        return self.data\n",
    "        \n",
    "    def norm_data(self, columns):\n",
    "        \"\"\"\n",
    "        This function is used to normalize the data.   \n",
    "        ...\n",
    "        Attributes\n",
    "        ----------\n",
    "        data : Pandas DataFrame\n",
    "            The data you want to normalize.\n",
    "        \n",
    "        Returns\n",
    "        ----------\n",
    "        A new normalized dataset.\n",
    "        \"\"\"\n",
    "        \n",
    "        # Normalize our numeric data\n",
    "        self.data[columns] = self.data[columns].apply(lambda x:np.log1p(x)) #Normalize the data with Logarithms\n",
    "        \n",
    "        return self.data      "
   ]
  },
  {
   "cell_type": "markdown",
   "id": "beed096a",
   "metadata": {
    "papermill": {
     "duration": 0.144493,
     "end_time": "2021-09-28T21:34:02.561147",
     "exception": false,
     "start_time": "2021-09-28T21:34:02.416654",
     "status": "completed"
    },
    "tags": []
   },
   "source": [
    "<a href=\"#outlines\"><b>Up to outlines</b>"
   ]
  },
  {
   "cell_type": "markdown",
   "id": "7eafff83",
   "metadata": {
    "papermill": {
     "duration": 0.144079,
     "end_time": "2021-09-28T21:34:02.849712",
     "exception": false,
     "start_time": "2021-09-28T21:34:02.705633",
     "status": "completed"
    },
    "tags": []
   },
   "source": [
    "# <h1>Processor Class</h1>\n",
    "<a id=\"processor_class\"></a>"
   ]
  },
  {
   "cell_type": "code",
   "execution_count": null,
   "id": "9eb7649d",
   "metadata": {
    "execution": {
     "iopub.execute_input": "2021-09-28T21:34:03.152784Z",
     "iopub.status.busy": "2021-09-28T21:34:03.152072Z",
     "iopub.status.idle": "2021-09-28T21:34:03.157164Z",
     "shell.execute_reply": "2021-09-28T21:34:03.156677Z",
     "shell.execute_reply.started": "2021-09-28T21:16:16.012701Z"
    },
    "papermill": {
     "duration": 0.162669,
     "end_time": "2021-09-28T21:34:03.157326",
     "exception": false,
     "start_time": "2021-09-28T21:34:02.994657",
     "status": "completed"
    },
    "tags": []
   },
   "outputs": [],
   "source": [
    "class Preprocessor:\n",
    "    \n",
    "    def __init__(self):\n",
    "        self.data=None\n",
    "        self._preprocessor=Pre_processing()\n",
    "\n",
    "    def _process(self, data, ntrain):\n",
    "\n",
    "        self.data=data\n",
    "        \n",
    "        self.ntrain=ntrain\n",
    "        \n",
    "        cols_drop=['Utilities', 'OverallQual','TotRmsAbvGrd']\n",
    "        \n",
    "        # Numeric columns\n",
    "        num_cols = ['LotFrontage','LotArea','YearBuilt','YearRemodAdd','MasVnrArea',\n",
    "                    'BsmtFinSF1','BsmtFinSF2','BsmtUnfSF','TotalBsmtSF', '1stFlrSF', '2ndFlrSF', \n",
    "                    'LowQualFinSF','GrLivArea','BsmtFullBath','BsmtHalfBath','FullBath','HalfBath', \n",
    "                    'BedroomAbvGr','KitchenAbvGr','Fireplaces','GarageYrBlt','GarageCars','GarageArea', \n",
    "                    'WoodDeckSF','OpenPorchSF','EnclosedPorch','3SsnPorch','ScreenPorch','PoolArea','MiscVal']\n",
    "\n",
    "        # Categorical columns\n",
    "        cat_cols = ['MSSubClass','MSZoning','Street','Alley','LotShape','LandContour','LotConfig','LandSlope', \n",
    "                    'Neighborhood','Condition1','Condition2','BldgType','HouseStyle','RoofStyle','RoofMatl', \n",
    "                    'Exterior1st','Exterior2nd','MasVnrType','ExterQual','ExterCond','Foundation','BsmtQual', \n",
    "                    'BsmtCond','BsmtExposure','BsmtFinType1','BsmtFinType2','Heating','HeatingQC','CentralAir', \n",
    "                    'Electrical','KitchenQual','Functional','FireplaceQu','GarageType','GarageFinish', \n",
    "                    'GarageQual','GarageCond','PavedDrive','PoolQC','Fence','MiscFeature','MoSold','SaleType', \n",
    "                    'SaleCondition','OverallCond', 'YrSold']\n",
    "        \n",
    "        drop_strategies=[(cols_drop,1)]\n",
    "\n",
    "        fill_strategies=[(['BsmtFinType2','BsmtQual','BsmtCond','ExterQual','ExterCond','MasVnrArea',\n",
    "                          'TotalBsmtSF','HeatingQC','BsmtHalfBath','BsmtFinSF1','BsmtFinSF2','GarageYrBlt',\n",
    "                          'BsmtFullBath','BsmtUnfSF','GarageCars','GarageArea','MasVnrArea'],0),\n",
    "                         (['FireplaceQu','GarageQual','GarageCond','BsmtFinType1','MasVnrType',\n",
    "                          'BsmtExposure','GarageFinish','PoolQC','Fence','LandSlope','GarageType',\n",
    "                          'LotShape','PavedDrive','Street','Alley','CentralAir','MiscFeature',\n",
    "                          'MSSubClass','OverallCond','YrSold','MoSold'],'NA'),\n",
    "                         (['Functional'],'Typ'), # Typical Functionality\n",
    "                         (['KitchenQual'],'TA'),\n",
    "                         (['LotFrontage'],'median'),\n",
    "                         (['MSZoning'],'mode'),\n",
    "                         (['SaleType','Exterior1st','Exterior2nd','SaleType'],'Oth'), #other\n",
    "                         (['Electrical'],'SBrkr')]  # Standard Circuit Breakers & Romex\n",
    "\n",
    "        #drop\n",
    "        self.data = self._preprocessor.drop(self.data, drop_strategies)\n",
    "        \n",
    "        #fill nulls\n",
    "        self.data = self._preprocessor.fillna(self.ntrain, fill_strategies)\n",
    "        \n",
    "        #feature engineering\n",
    "        self.data = self._preprocessor.feature_engineering()\n",
    "        \n",
    "        #label encoder\n",
    "        self.data = self._preprocessor.label_encoder(cat_cols)\n",
    "        \n",
    "        #normalizing\n",
    "#         self.data = self._preprocessor.norm_data(self.data, num_cols)\n",
    "        \n",
    "        #get dummies\n",
    "        self.data = self._preprocessor.get_dummies(cat_cols)\n",
    "        return self.data"
   ]
  },
  {
   "cell_type": "markdown",
   "id": "6821f74b",
   "metadata": {
    "papermill": {
     "duration": 0.146711,
     "end_time": "2021-09-28T21:34:03.448552",
     "exception": false,
     "start_time": "2021-09-28T21:34:03.301841",
     "status": "completed"
    },
    "tags": []
   },
   "source": [
    "<a href=\"#outlines\"><b>Up to outlines</b>"
   ]
  },
  {
   "cell_type": "markdown",
   "id": "8e35bfdd",
   "metadata": {
    "papermill": {
     "duration": 0.1429,
     "end_time": "2021-09-28T21:34:03.738039",
     "exception": false,
     "start_time": "2021-09-28T21:34:03.595139",
     "status": "completed"
    },
    "tags": []
   },
   "source": [
    "<h1>Machine Learning Class</h1>\n",
    "<a id=\"ml_class\"></a>"
   ]
  },
  {
   "cell_type": "code",
   "execution_count": null,
   "id": "66e887fb",
   "metadata": {
    "execution": {
     "iopub.execute_input": "2021-09-28T21:34:04.047931Z",
     "iopub.status.busy": "2021-09-28T21:34:04.042227Z",
     "iopub.status.idle": "2021-09-28T21:34:04.102904Z",
     "shell.execute_reply": "2021-09-28T21:34:04.102286Z",
     "shell.execute_reply.started": "2021-09-28T21:16:16.042784Z"
    },
    "papermill": {
     "duration": 0.22007,
     "end_time": "2021-09-28T21:34:04.103047",
     "exception": false,
     "start_time": "2021-09-28T21:34:03.882977",
     "status": "completed"
    },
    "tags": []
   },
   "outputs": [],
   "source": [
    "class ML: \n",
    "    def __init__(self, data, y_train, testID, test_size, ntrain):\n",
    "         \n",
    "        print()\n",
    "        print('Machine Learning object is created')\n",
    "        print()\n",
    "\n",
    "        self.data=data\n",
    "        self.ntrain=ntrain\n",
    "        self.test_size=test_size\n",
    "        self.train=self.data[:self.ntrain]\n",
    "        self.test=self.data[self.ntrain:]\n",
    "        self.testID=testID\n",
    "        self.y_train=y_train\n",
    "        \n",
    "        self.reg_models={}\n",
    "\n",
    "        # define models to test:\n",
    "        self.base_models = {\n",
    "            \"Elastic Net\":make_pipeline(RobustScaler(),                   #Elastic Net model(Regularized model)\n",
    "                                        ElasticNet(alpha=0.0005,\n",
    "                                                   l1_ratio=0.9)),\n",
    "            \"Kernel Ridge\" : KernelRidge(),                               #Kernel Ridge model(Regularized model)\n",
    "            \"Bayesian Ridge\" : BayesianRidge(compute_score=True,          #Bayesian Ridge model\n",
    "                                            fit_intercept=True,\n",
    "                                            n_iter=200,\n",
    "                                            normalize=False),                             \n",
    "            \"Lasso\" : make_pipeline(RobustScaler(), Lasso(alpha =0.0005,   #Lasso model(Regularized model)\n",
    "                                                          random_state=2021)),\n",
    "            \"Lasso Lars Ic\" : LassoLarsIC(criterion='aic',                  #LassoLars IC model \n",
    "                                        fit_intercept=True,\n",
    "                                        max_iter=200,\n",
    "                                        normalize=True,\n",
    "                                        precompute='auto',\n",
    "                                        verbose=False), \n",
    "            \"Random Forest\": RandomForestRegressor(n_estimators=300),      #Random Forest model\n",
    "            \"Svm\": SVR(),                                                  #Support Vector Machines\n",
    "            \"Xgboost\": XGBRegressor(),                                     #XGBoost model                                             \n",
    "            \"Gradient Boosting\":make_pipeline(StandardScaler(),\n",
    "                                             GradientBoostingRegressor(n_estimators=3000, #GradientBoosting model\n",
    "                                                                       learning_rate=0.005,     \n",
    "                                                                       max_depth=4, max_features='sqrt',\n",
    "                                                                       min_samples_leaf=15, min_samples_split=10, \n",
    "                                                                       loss='huber', random_state = 2021))}\n",
    "        \n",
    "    def init_ml_regressors(self, algorithms):\n",
    "        \n",
    "        if algorithms.lower()=='all':\n",
    "            for model in self.base_models.keys():\n",
    "                self.reg_models[model.title()]=self.base_models[model.title()]\n",
    "                print(model.title(),(20-len(str(model)))*'=','>','Initialized')\n",
    "            \n",
    "        else:\n",
    "            for model in algorithms:\n",
    "                if model.lower() in [x.lower() for x in self.base_models.keys()]:\n",
    "                    print(self.base_models[model])\n",
    "                    print(model.title(),(20-len(str(model)))*'=','>','Initialized')\n",
    "\n",
    "                else:\n",
    "                    print(model.title(),(20-len(str(model)))*'=','>','Not Initialized')\n",
    "                    print('# Only (Elastic Net,Kernel Ridge,Lasso,Random Forest,SVM,XGBoost,LGBM,Gradient Boosting,Linear Regression)')    \n",
    "    \n",
    "\n",
    "    def show_available(self):\n",
    "        print(50*'=')\n",
    "        print('You can fit your data with the following models')\n",
    "        print(50*'=','\\n')\n",
    "        for model in [m.title() for m in self.base_models.keys()]:\n",
    "            print(model)\n",
    "        print('\\n',50*'=','\\n')\n",
    "        \n",
    "    def train_test_eval_show_results(self, show=True):\n",
    "        \n",
    "        if not self.reg_models:\n",
    "            raise TypeError('Add models first before fitting')\n",
    "      \n",
    "        self.X_train, self.X_test, self.y_train, self.y_test = train_test_split(self.train, self.y_train, \n",
    "                                                                                test_size=self.test_size, random_state=2021)\n",
    "\n",
    "        #Preprocessing, fitting, making predictions and scoring for every model:\n",
    "        self.result_data = {'R^2':{'Training':{},'Testing':{}},\n",
    "                            'Adjusted R^2':{'Training':{},'Testing':{}},\n",
    "                            'MAE':{'Training':{},'Testing':{}},\n",
    "                            'MSE':{'Training':{},'Testing':{}},\n",
    "                            'RMSE':{'Training':{},'Testing':{}}}\n",
    "        \n",
    "        self.p = train.shape[1]\n",
    "        self.train_n = self.X_train.shape[0]\n",
    "        self.test_n = self.X_test.shape[0]\n",
    "        \n",
    "        for name in self.reg_models: \n",
    "            #fitting the model\n",
    "            model = self.reg_models[name].fit(self.X_train, self.y_train)\n",
    "            \n",
    "            #make predictions with train and test datasets\n",
    "            y_pred_train = model.predict(self.X_train)\n",
    "            y_pred_test = model.predict(self.X_test)\n",
    "\n",
    "            #calculate the R-Squared for training and testing\n",
    "            r2_train,r2_test = model.score(self.X_train, self.y_train),\\\n",
    "                               model.score(self.X_test, self.y_test)\n",
    "            self.result_data['R^2']['Training'][name],\\\n",
    "            self.result_data['R^2']['Testing'][name] = r2_train, r2_test\n",
    "\n",
    "            #calculate the Adjusted R-Squared for training and testing\n",
    "            adj_train, adj_test = (1-(1-r2_train)*(self.train_n-1)/(self.train_n-self.p-1)) ,\\\n",
    "                                  (1-(1-r2_test)*(self.train_n-1)/(self.train_n-self.p-1))\n",
    "            self.result_data['Adjusted R^2']['Training'][name],\\\n",
    "            self.result_data['Adjusted R^2']['Testing'][name] = adj_train, adj_test\n",
    "\n",
    "            #calculate the Mean absolute error for training and testing\n",
    "            mae_train, mae_test = mean_absolute_error(self.y_train, y_pred_train),\\\n",
    "                                  mean_squared_error(self.y_test, y_pred_test)         \n",
    "            self.result_data['MAE']['Training'][name],\\\n",
    "            self.result_data['MAE']['Testing'][name] = mae_train, mae_test\n",
    "\n",
    "            #calculate Mean square error for training and testing\n",
    "            mse_train, mse_test = mean_squared_error(self.y_train, y_pred_train),\\\n",
    "                                  mean_squared_error(self.y_test, y_pred_test)\n",
    "            self.result_data['MSE']['Training'][name],\\\n",
    "            self.result_data['MSE']['Testing'][name] = mse_train, mse_test\n",
    "\n",
    "            #calculate Root mean error for training and testing    \n",
    "            rmse_train, rmse_test = np.sqrt(mse_train), np.sqrt(mse_test)\n",
    "            self.result_data['RMSE']['Training'][name],\\\n",
    "            self.result_data['RMSE']['Testing'][name] = rmse_train, rmse_test\n",
    "            \n",
    "            if show:\n",
    "                print('\\n',25*'=','{}'.format(name),25*'=')\n",
    "                print(10*'*','Training',23*'*','Testing',10*'*')\n",
    "                print('R^2    : ',r2_train,' '*(25-len(str(r2_train))),r2_test) \n",
    "                print('Adj R^2: ',adj_train,' '*(25-len(str(adj_train))),adj_test) \n",
    "                print('MAE    : ',mae_train,' '*(25-len(str(mae_train))),mae_test) \n",
    "                print('MSE    : ',mse_train,' '*(25-len(str(mse_train))),mse_test) \n",
    "                print('RMSE   : ',rmse_train,' '*(25-len(str(rmse_train))),rmse_test)\n",
    " \n",
    "    def cv_eval_show_results(self, num_models=4, n_folds=5, show=False):\n",
    "        \n",
    "        # prepare configuration for cross validation test\n",
    "        #Create two dictionaries to store the results of R-Squared and RMSE \n",
    "        self.r_2_results = {'R-Squared':{},'Mean':{},'std':{}}   \n",
    "        self.rmse_results = {'RMSE':{},'Mean':{},'std':{}}\n",
    "        \n",
    "        #create a dictionary contains best Adjusted R-Squared results, then sort it\n",
    "        adj=self.result_data['Adjusted R^2']['Testing']\n",
    "        adj_R_sq_sort=dict(sorted(adj.items(), key=lambda x:x[1], reverse=True))\n",
    "        \n",
    "        #check the number of models to visualize results\n",
    "        if str(num_models).lower()=='all':\n",
    "            models_name={i:adj_R_sq_sort[i] for i in list(adj_R_sq_sort.keys())}\n",
    "            print()\n",
    "            print('Apply Cross-Validation for {} models'.format(num_models))\n",
    "            print()\n",
    "            \n",
    "        else:\n",
    "            print()\n",
    "            print('Apply Cross-Validation for {} models have highest Adjusted R-Squared value on Testing'.format(num_models))\n",
    "            print()\n",
    "            \n",
    "            num_models=min(num_models,len(self.base_models.keys()))\n",
    "            models_name={i:adj_R_sq_sort[i] for i in list(adj_R_sq_sort.keys())[:num_models]}\n",
    "        \n",
    "        models_name=dict(sorted(models_name.items(), key=lambda x:x[1], reverse=True))\n",
    "        \n",
    "        #create Kfold for the cross-validation\n",
    "        kfold = KFold(n_splits=n_folds, shuffle=True, random_state=2021).get_n_splits(self.train)\n",
    "        \n",
    "        \n",
    "        for name,_ in models_name.items():\n",
    "            model = self.base_models[name]\n",
    "            r_2 = cross_val_score(model, self.train, self.y_train,    #R-Squared \n",
    "                                  scoring='r2', cv=kfold)          \n",
    "            rms = np.sqrt(-cross_val_score(model, self.train, self.y_train, #RMSE\n",
    "                                           cv=kfold, scoring='neg_mean_squared_error'))\n",
    "\n",
    "            #save the R-Squared reults\n",
    "            self.r_2_results['R-Squared'][name] = r_2\n",
    "            self.r_2_results['Mean'][name] = r_2.mean()\n",
    "            self.r_2_results['std'][name] = r_2.std()\n",
    "\n",
    "            #save the RMSE reults\n",
    "            self.rmse_results['RMSE'][name] = rms\n",
    "            self.rmse_results['Mean'][name] = rms.mean()\n",
    "            self.rmse_results['std'][name] = rms.std()\n",
    "            \n",
    "            print(name,(30-len(name))*'=','>','is Done!')\n",
    "            \n",
    "        if show : return self.r_2_results, self.rmse_results\n",
    "        \n",
    "    def visualize_results(self, \n",
    "                          cv_train_test,\n",
    "                          metrics=['r_squared','adjusted r_squared','mae','mse','rmse'],\n",
    "                          metrics_cv=['r_squared','rmse']):\n",
    "        \n",
    "        if cv_train_test.lower()=='cv':\n",
    "            \n",
    "            #visualize the results of R-Squared CV for each model\n",
    "            self.r_2_cv_results = pd.DataFrame(index=self.r_2_results['R-Squared'].keys())\n",
    "            #append the max R-Squared for each model to the dataframe\n",
    "            self.r_2_cv_results['Max'] = [self.r_2_results['R-Squared'][m].max() for m in self.r_2_results['R-Squared'].keys()]\n",
    "            #append the mean of all R-Squared for each model to the dataframe\n",
    "            self.r_2_cv_results['Mean'] = [self.r_2_results['Mean'][m] for m in self.r_2_results['Mean'].keys()]\n",
    "            #append the min R-Squared for each model to the dataframe\n",
    "            self.r_2_cv_results['Min'] = [self.r_2_results['R-Squared'][m].min() for m in self.r_2_results['R-Squared'].keys()]\n",
    "            #append the std of all R-Squared for each model to the dataframe\n",
    "            self.r_2_cv_results['std'] = [self.r_2_results['std'][m] for m in self.r_2_results['std'].keys()]\n",
    "\n",
    "            #visualize the results of RMSE CV for each model\n",
    "            self.rmse_cv_results = pd.DataFrame(index=self.rmse_results['RMSE'].keys())\n",
    "            #append the max R-Squared for each model to the dataframe\n",
    "            self.rmse_cv_results['Max'] = [self.rmse_results['RMSE'][m].max() for m in self.rmse_results['RMSE'].keys()]\n",
    "            #append the mean of all R-Squared for each model to the dataframe\n",
    "            self.rmse_cv_results['Mean'] = [self.rmse_results['Mean'][m] for m in self.rmse_results['Mean'].keys()]\n",
    "            #append the min R-Squared for each model to the dataframe\n",
    "            self.rmse_cv_results['Min'] = [self.rmse_results['RMSE'][m].min() for m in self.rmse_results['RMSE'].keys()]\n",
    "            #append the std of all R-Squared for each model to the dataframe\n",
    "            self.rmse_cv_results['std'] = [self.rmse_results['std'][m] for m in self.rmse_results['std'].keys()]\n",
    "\n",
    "            for parm in metrics_cv:\n",
    "                if parm.lower() in ['rmse','root mean squared']:\n",
    "                    self.rmse_cv_results = self.rmse_cv_results.sort_values(by='Mean',ascending=True)\n",
    "                    self.rmse_cv_results.iplot(kind='bar',\n",
    "                                               title='Maximum, Minimun, Mean values and standard deviation <br>For RMSE values for each model')\n",
    "                    self.scores = pd.DataFrame(self.rmse_results['RMSE'])\n",
    "                    self.scores.iplot(kind='box',\n",
    "                                      title='Box plot for the variation of RMSE values for each model')\n",
    "\n",
    "                elif parm.lower() in ['r_squared','rsquared','r squared']:\n",
    "                    self.r_2_cv_results = self.r_2_cv_results.sort_values(by='Mean',ascending=False)\n",
    "                    self.r_2_cv_results.iplot(kind='bar',\n",
    "                                              title='Max, Min, Mean, and standard deviation <br>For R-Squared values for each model')\n",
    "                    self.scores = pd.DataFrame(self.r_2_results['R-Squared'])\n",
    "                    self.scores.iplot(kind='box',\n",
    "                                 title='Box plot for the variation of R-Squared for each model')\n",
    "                else:\n",
    "                    print('Not avilable')\n",
    "                    \n",
    "        elif cv_train_test.lower()=='train test':\n",
    "            R_2 = pd.DataFrame(self.result_data['R^2']).sort_values(by='Testing',ascending=False)\n",
    "            Adjusted_R_2 = pd.DataFrame(self.result_data['Adjusted R^2']).sort_values(by='Testing',ascending=False)\n",
    "            MAE = pd.DataFrame(self.result_data['MAE']).sort_values(by='Testing',ascending=True)\n",
    "            MSE = pd.DataFrame(self.result_data['MSE']).sort_values(by='Testing',ascending=True)\n",
    "            RMSE = pd.DataFrame(self.result_data['RMSE']).sort_values(by='Testing',ascending=True)\n",
    "\n",
    "            for parm in metrics:\n",
    "                if parm.lower()=='r_squared':\n",
    "                    #order the results by testing values\n",
    "                    fig=px.line(data_frame=R_2.reset_index(),\n",
    "                                x='index',y=['Training','Testing'],\n",
    "                                title='R-Squared for training and testing')\n",
    "                    fig.show()\n",
    "\n",
    "                elif parm.lower()=='adjusted r_squared':\n",
    "                    #order the results by testing values\n",
    "                    fig=px.line(data_frame=Adjusted_R_2.reset_index(),\n",
    "                                x='index',y=['Training','Testing'],\n",
    "                                title='Adjusted R-Squared for training and testing')\n",
    "                    fig.show()\n",
    "\n",
    "                elif parm.lower()=='mae':\n",
    "                    #order the results by testing values\n",
    "                    fig=px.line(data_frame=MAE.reset_index(),\n",
    "                                x='index',y=['Training','Testing'],\n",
    "                                title='Mean absolute error for training and testing')\n",
    "                    fig.show()\n",
    "\n",
    "                elif parm.lower()=='mse':\n",
    "                    #order the results by testing values\n",
    "                    fig=px.line(data_frame=MSE.reset_index(),\n",
    "                                x='index',y=['Training','Testing'],\n",
    "                                title='Mean square error for training and testing')\n",
    "                    fig.show()\n",
    "\n",
    "                elif parm.lower()=='rmse':\n",
    "                    #order the results by testing values\n",
    "                    fig=px.line(data_frame=RMSE.reset_index(),\n",
    "                                x='index',y=['Training','Testing'],\n",
    "                                title='Root mean square error for training and testing')\n",
    "                    fig.show()\n",
    "\n",
    "                else:\n",
    "                    print('Only (R_Squared, Adjusted R_Squared, MAE, MSE, RMSE)')\n",
    "\n",
    "        else:\n",
    "            raise TypeError('Only (CV , Train Test)')\n",
    "            \n",
    "    def fit_best_model(self):\n",
    "        self.models=list(self.r_2_results['Mean'].keys())\n",
    "        self.r_2_results_vals=np.array([r for _,r in self.r_2_results['Mean'].items()])\n",
    "        self.rmse_results_vals=np.array([r for _,r in self.rmse_results['Mean'].items()])\n",
    "        self.best_model_name=self.models[np.argmax(self.r_2_results_vals-self.rmse_results_vals)]\n",
    "        print()\n",
    "        print(30*'=')\n",
    "        print('The best model is ====> ',self.best_model_name)\n",
    "        print('It has the highest (R-Squared) and the lowest (Root Mean Square Erorr)')\n",
    "        print(30*'=')\n",
    "        print()\n",
    "        self.best_model=self.base_models[self.best_model_name]\n",
    "        self.best_model.fit(self.train, self.y_train)\n",
    "        print(self.best_model_name,' is fitted to the data!')\n",
    "        print()\n",
    "        print(30*'=')\n",
    "        self.y_pred=self.best_model.predict(self.test)\n",
    "        self.y_pred=np.expm1(self.y_pred)              #using expm1 (The inverse of log1p)\n",
    "        self.temp=pd.DataFrame({\"Id\": self.testID,\n",
    "                                \"SalePrice\": self.y_pred })\n",
    "    \n",
    "    def show_predictions(self):\n",
    "        return self.temp\n",
    "    \n",
    "    def save_predictions(self, file_name):\n",
    "        self.temp.to_csv('{}.csv'.format(file_name))"
   ]
  },
  {
   "cell_type": "markdown",
   "id": "d549da90",
   "metadata": {
    "papermill": {
     "duration": 0.144692,
     "end_time": "2021-09-28T21:34:04.392225",
     "exception": false,
     "start_time": "2021-09-28T21:34:04.247533",
     "status": "completed"
    },
    "tags": []
   },
   "source": [
    "<a href=\"#outlines\"><b>Up to outlines</b>"
   ]
  },
  {
   "cell_type": "markdown",
   "id": "5b2b51e2",
   "metadata": {
    "papermill": {
     "duration": 0.146019,
     "end_time": "2021-09-28T21:34:04.682191",
     "exception": false,
     "start_time": "2021-09-28T21:34:04.536172",
     "status": "completed"
    },
    "tags": []
   },
   "source": [
    "<a id=\"hpopp_class\"></a>\n",
    "<h1>House Price OOP class</h1>"
   ]
  },
  {
   "cell_type": "code",
   "execution_count": null,
   "id": "1aebae29",
   "metadata": {
    "execution": {
     "iopub.execute_input": "2021-09-28T21:34:04.996642Z",
     "iopub.status.busy": "2021-09-28T21:34:04.995746Z",
     "iopub.status.idle": "2021-09-28T21:34:04.999143Z",
     "shell.execute_reply": "2021-09-28T21:34:04.998541Z",
     "shell.execute_reply.started": "2021-09-28T21:16:16.183645Z"
    },
    "papermill": {
     "duration": 0.172314,
     "end_time": "2021-09-28T21:34:04.999304",
     "exception": false,
     "start_time": "2021-09-28T21:34:04.826990",
     "status": "completed"
    },
    "tags": []
   },
   "outputs": [],
   "source": [
    "class HouseObjectOriented:\n",
    "    \"\"\"\n",
    "    param train: train data will be used for modelling\n",
    "    param test:  test data will be used for model evaluation\n",
    "    \"\"\"\n",
    "    def __init__(self):\n",
    "        #properties\n",
    "        self.ntrain=None\n",
    "        self.testID=None\n",
    "        self.y_train=None\n",
    "        self.train=None\n",
    "        self.test=None\n",
    "        self._info=Information()\n",
    "        self._Preprocessor = Preprocessor()\n",
    "        \n",
    "        print()\n",
    "        print('HouseObjectOriented object is created')\n",
    "        print()\n",
    "        \n",
    "    def add_data(self, train, test):\n",
    "        #properties\n",
    "        self.ntrain=train.shape[0]\n",
    "        self.testID=test.reset_index().drop('index',axis=1)['Id']\n",
    "        self.y_train=train['SalePrice'].apply(lambda x:np.log1p(x))\n",
    "        self.train=train.drop('SalePrice', axis=1)\n",
    "        self.test=test\n",
    "        \n",
    "        # concatinating the whole data\n",
    "        self.data=self.concat_data(self.train, self.test)\n",
    "        self.orig_data=self.data.copy()\n",
    "        print()\n",
    "        print('Your data has been added')\n",
    "        print()\n",
    "\n",
    "    def concat_data(self, train, test):\n",
    "        \n",
    "        data = pd.concat([self.train.set_index('Id'), self.test.set_index('Id')]).reset_index(drop=True)\n",
    "\n",
    "        return data\n",
    "    \n",
    "    #using the objects\n",
    "    def information(self):\n",
    "        \"\"\"\n",
    "        using _info object gives summary about dataset\n",
    "        :return:\n",
    "        \"\"\"\n",
    "        print(self._info._info_(self.data))\n",
    "\n",
    "\n",
    "    def preprocessing(self):\n",
    "        \n",
    "        \"\"\"\n",
    "        preprocess the data before applying Ml algorithms\n",
    "        \"\"\"\n",
    "        self.data=self._Preprocessor._process(self.data, self.ntrain)\n",
    "\n",
    "        print()\n",
    "        print('Data has been Pre-Processed')\n",
    "        print()\n",
    "        \n",
    "    class visualizer:\n",
    "        \n",
    "        def __init__(self, House_Price_OOP):\n",
    "            \n",
    "            self.hp=House_Price_OOP\n",
    "            self.data=self.hp.data\n",
    "            self.y_train=self.hp.y_train  \n",
    "            self.ntrain=self.hp.ntrain\n",
    "            self.testID=self.hp.testID\n",
    "            self.data_vis=data_visualization  \n",
    "            \n",
    "            \n",
    "        def box_plot(self, columns):\n",
    "            \n",
    "            self.data_vis.box_plot(columns)\n",
    "            \n",
    "            \n",
    "        def box_plot(self, columns):\n",
    "            \n",
    "            self.data_vis.box_plot(columns)\n",
    "        \n",
    "        \n",
    "        def bar_plot(self, columns):\n",
    "            \n",
    "            self.data_vis.bar_plot(columns)\n",
    "            \n",
    "        \n",
    "    class ml:\n",
    "        \n",
    "        def __init__(self, House_Price_OOP):\n",
    "            \n",
    "            self.hp=House_Price_OOP\n",
    "            self.data=self.hp.data\n",
    "            self.y_train=self.hp.y_train  \n",
    "            self.ntrain=self.hp.ntrain\n",
    "            self.testID=self.hp.testID\n",
    "            self._ML_=ML(data=self.data, y_train=self.y_train,\n",
    "                         testID=self.testID, test_size=0.2, ntrain=self.ntrain)\n",
    "        \n",
    "        def show_available_algorithms(self):\n",
    "            \n",
    "            self._ML_.show_available()\n",
    "        \n",
    "        \n",
    "        def init_regressors(self, num_models='all'):\n",
    "        \n",
    "            self._ML_.init_ml_regressors(num_models)\n",
    "        \n",
    "        \n",
    "        def train_test_validation(self, show_results=True):\n",
    "        \n",
    "            self._ML_.train_test_eval_show_results(show=show_results)\n",
    "\n",
    "            \n",
    "        def cross_validation(self, num_models=4, n_folds=5, show_results=False):\n",
    "            \n",
    "            self._ML_.cv_eval_show_results(num_models=num_models, n_folds=n_folds, show=show_results)\n",
    "\n",
    "            \n",
    "        def visualize_trai_test(self, metrics=['r_squared','adjusted r_squared','mae','mse','rmse']):\n",
    "            \n",
    "            self._ML_.visualize_results(cv_train_test='train test', metrics=metrics)\n",
    "\n",
    "            \n",
    "        def visualize_cv(self, metrics=['r_squared','rmse']):\n",
    "            \n",
    "            self._ML_.visualize_results(cv_train_test='cv', metrics_cv=metrics)   \n",
    "            \n",
    "            \n",
    "        def fit_best_model(self):\n",
    "            \n",
    "            self._ML_.fit_best_model()\n",
    "\n",
    "            \n",
    "        def show_predictions(self):\n",
    "            \n",
    "            return self._ML_.show_predictions()\n",
    "\n",
    "        def save_predictions(self, file_name):\n",
    "            \n",
    "            self._ML_.save_predictions(file_name)\n",
    "            print('The prediction is saved')"
   ]
  },
  {
   "cell_type": "markdown",
   "id": "93722bb0",
   "metadata": {
    "papermill": {
     "duration": 0.144342,
     "end_time": "2021-09-28T21:34:05.289606",
     "exception": false,
     "start_time": "2021-09-28T21:34:05.145264",
     "status": "completed"
    },
    "tags": []
   },
   "source": [
    "<a href=\"#outlines\"><b>Up to outlines</b>"
   ]
  },
  {
   "cell_type": "markdown",
   "id": "3a171234",
   "metadata": {
    "papermill": {
     "duration": 0.428354,
     "end_time": "2021-09-28T21:34:05.863013",
     "exception": false,
     "start_time": "2021-09-28T21:34:05.434659",
     "status": "completed"
    },
    "tags": []
   },
   "source": [
    "# <p style=\"background-color:skyblue; font-family:newtimeroman; font-size:100%; text-align:center; border-radius: 15px 50px;\">Creating Objects of our Classes</p>"
   ]
  },
  {
   "cell_type": "code",
   "execution_count": null,
   "id": "d7a980e9",
   "metadata": {
    "execution": {
     "iopub.execute_input": "2021-09-28T21:34:06.158062Z",
     "iopub.status.busy": "2021-09-28T21:34:06.157422Z",
     "iopub.status.idle": "2021-09-28T21:34:06.231841Z",
     "shell.execute_reply": "2021-09-28T21:34:06.231261Z",
     "shell.execute_reply.started": "2021-09-28T21:16:16.209283Z"
    },
    "papermill": {
     "duration": 0.22419,
     "end_time": "2021-09-28T21:34:06.231982",
     "exception": false,
     "start_time": "2021-09-28T21:34:06.007792",
     "status": "completed"
    },
    "tags": []
   },
   "outputs": [],
   "source": [
    "#collect the data\n",
    "train = pd.read_csv('../input/house-prices-advanced-regression-techniques/train.csv')\n",
    "test = pd.read_csv('../input/house-prices-advanced-regression-techniques/test.csv')"
   ]
  },
  {
   "cell_type": "markdown",
   "id": "992acc83",
   "metadata": {
    "papermill": {
     "duration": 0.166346,
     "end_time": "2021-09-28T21:34:06.544716",
     "exception": false,
     "start_time": "2021-09-28T21:34:06.378370",
     "status": "completed"
    },
    "tags": []
   },
   "source": [
    "<a id=\"1.0\"></a>\n",
    "<h1>Create HouseObjectOriented object</h1>"
   ]
  },
  {
   "cell_type": "code",
   "execution_count": null,
   "id": "71515400",
   "metadata": {
    "_kg_hide-output": false,
    "execution": {
     "iopub.execute_input": "2021-09-28T21:34:06.842342Z",
     "iopub.status.busy": "2021-09-28T21:34:06.841500Z",
     "iopub.status.idle": "2021-09-28T21:34:06.845637Z",
     "shell.execute_reply": "2021-09-28T21:34:06.844959Z",
     "shell.execute_reply.started": "2021-09-28T21:16:16.278611Z"
    },
    "papermill": {
     "duration": 0.154411,
     "end_time": "2021-09-28T21:34:06.845789",
     "exception": false,
     "start_time": "2021-09-28T21:34:06.691378",
     "status": "completed"
    },
    "tags": []
   },
   "outputs": [],
   "source": [
    "#create HouseObjectOriented object\n",
    "HOOP = HouseObjectOriented()"
   ]
  },
  {
   "cell_type": "markdown",
   "id": "187851bb",
   "metadata": {
    "papermill": {
     "duration": 0.145417,
     "end_time": "2021-09-28T21:34:07.136496",
     "exception": false,
     "start_time": "2021-09-28T21:34:06.991079",
     "status": "completed"
    },
    "tags": []
   },
   "source": [
    "<a id=\"1.1\"></a>\n",
    "<h1>Adding our data</h1>"
   ]
  },
  {
   "cell_type": "code",
   "execution_count": null,
   "id": "ccc71104",
   "metadata": {
    "execution": {
     "iopub.execute_input": "2021-09-28T21:34:07.433964Z",
     "iopub.status.busy": "2021-09-28T21:34:07.433327Z",
     "iopub.status.idle": "2021-09-28T21:34:07.478782Z",
     "shell.execute_reply": "2021-09-28T21:34:07.479312Z",
     "shell.execute_reply.started": "2021-09-28T21:16:16.287556Z"
    },
    "papermill": {
     "duration": 0.196168,
     "end_time": "2021-09-28T21:34:07.479485",
     "exception": false,
     "start_time": "2021-09-28T21:34:07.283317",
     "status": "completed"
    },
    "tags": []
   },
   "outputs": [],
   "source": [
    "#adding the data \n",
    "HOOP.add_data(train, test)"
   ]
  },
  {
   "cell_type": "markdown",
   "id": "ca33f0ed",
   "metadata": {
    "papermill": {
     "duration": 0.144181,
     "end_time": "2021-09-28T21:34:07.768623",
     "exception": false,
     "start_time": "2021-09-28T21:34:07.624442",
     "status": "completed"
    },
    "tags": []
   },
   "source": [
    "\n",
    "\n",
    "<a id=\"2.0\"></a>\n",
    "<h1>Display Information about the data</h1>"
   ]
  },
  {
   "cell_type": "code",
   "execution_count": null,
   "id": "1fdde67e",
   "metadata": {
    "_kg_hide-output": false,
    "execution": {
     "iopub.execute_input": "2021-09-28T21:34:08.065574Z",
     "iopub.status.busy": "2021-09-28T21:34:08.064608Z",
     "iopub.status.idle": "2021-09-28T21:34:08.182126Z",
     "shell.execute_reply": "2021-09-28T21:34:08.181436Z",
     "shell.execute_reply.started": "2021-09-28T21:16:16.333967Z"
    },
    "papermill": {
     "duration": 0.265982,
     "end_time": "2021-09-28T21:34:08.182281",
     "exception": false,
     "start_time": "2021-09-28T21:34:07.916299",
     "status": "completed"
    },
    "tags": []
   },
   "outputs": [],
   "source": [
    "HOOP.information()"
   ]
  },
  {
   "cell_type": "markdown",
   "id": "95df4c45",
   "metadata": {
    "papermill": {
     "duration": 0.144484,
     "end_time": "2021-09-28T21:34:08.472896",
     "exception": false,
     "start_time": "2021-09-28T21:34:08.328412",
     "status": "completed"
    },
    "tags": []
   },
   "source": [
    "<a href=\"#outlines\"><b>Up to outlines</b>"
   ]
  },
  {
   "cell_type": "markdown",
   "id": "bb0e6df5",
   "metadata": {
    "papermill": {
     "duration": 0.151083,
     "end_time": "2021-09-28T21:34:08.770345",
     "exception": false,
     "start_time": "2021-09-28T21:34:08.619262",
     "status": "completed"
    },
    "tags": []
   },
   "source": [
    "<a id=\"3.0\"></a>\n",
    "<h1>Pre-Process the data</h1>"
   ]
  },
  {
   "cell_type": "code",
   "execution_count": null,
   "id": "332983ef",
   "metadata": {
    "execution": {
     "iopub.execute_input": "2021-09-28T21:34:09.069637Z",
     "iopub.status.busy": "2021-09-28T21:34:09.068967Z",
     "iopub.status.idle": "2021-09-28T21:34:09.708715Z",
     "shell.execute_reply": "2021-09-28T21:34:09.709508Z",
     "shell.execute_reply.started": "2021-09-28T21:16:16.478689Z"
    },
    "papermill": {
     "duration": 0.792641,
     "end_time": "2021-09-28T21:34:09.709749",
     "exception": false,
     "start_time": "2021-09-28T21:34:08.917108",
     "status": "completed"
    },
    "tags": []
   },
   "outputs": [],
   "source": [
    "HOOP.preprocessing()"
   ]
  },
  {
   "cell_type": "markdown",
   "id": "9650bb6d",
   "metadata": {
    "papermill": {
     "duration": 0.146204,
     "end_time": "2021-09-28T21:34:10.004486",
     "exception": false,
     "start_time": "2021-09-28T21:34:09.858282",
     "status": "completed"
    },
    "tags": []
   },
   "source": [
    "<a id=\"2.1\"></a>\n",
    "<h1>Display Information about the data after Pre-Processing</h1>"
   ]
  },
  {
   "cell_type": "code",
   "execution_count": null,
   "id": "376f5202",
   "metadata": {
    "_kg_hide-output": false,
    "execution": {
     "iopub.execute_input": "2021-09-28T21:34:10.303736Z",
     "iopub.status.busy": "2021-09-28T21:34:10.302412Z",
     "iopub.status.idle": "2021-09-28T21:34:10.780710Z",
     "shell.execute_reply": "2021-09-28T21:34:10.781251Z",
     "shell.execute_reply.started": "2021-09-28T21:16:16.995391Z"
    },
    "papermill": {
     "duration": 0.630494,
     "end_time": "2021-09-28T21:34:10.781434",
     "exception": false,
     "start_time": "2021-09-28T21:34:10.150940",
     "status": "completed"
    },
    "tags": []
   },
   "outputs": [],
   "source": [
    "HOOP.information()"
   ]
  },
  {
   "cell_type": "markdown",
   "id": "cee8e155",
   "metadata": {
    "papermill": {
     "duration": 0.296259,
     "end_time": "2021-09-28T21:34:11.226816",
     "exception": false,
     "start_time": "2021-09-28T21:34:10.930557",
     "status": "completed"
    },
    "tags": []
   },
   "source": [
    "<a href=\"#outlines\"><b>Up to outlines</b>"
   ]
  },
  {
   "cell_type": "markdown",
   "id": "860e97eb",
   "metadata": {
    "papermill": {
     "duration": 0.148948,
     "end_time": "2021-09-28T21:34:11.524485",
     "exception": false,
     "start_time": "2021-09-28T21:34:11.375537",
     "status": "completed"
    },
    "tags": []
   },
   "source": [
    "<a id=\"4.0\"></a>\n",
    "<h1>Create a Machine Learning object</h1>"
   ]
  },
  {
   "cell_type": "code",
   "execution_count": null,
   "id": "ca9587d8",
   "metadata": {
    "execution": {
     "iopub.execute_input": "2021-09-28T21:34:11.830290Z",
     "iopub.status.busy": "2021-09-28T21:34:11.829476Z",
     "iopub.status.idle": "2021-09-28T21:34:11.834287Z",
     "shell.execute_reply": "2021-09-28T21:34:11.833367Z",
     "shell.execute_reply.started": "2021-09-28T21:16:17.445150Z"
    },
    "papermill": {
     "duration": 0.161931,
     "end_time": "2021-09-28T21:34:11.834486",
     "exception": false,
     "start_time": "2021-09-28T21:34:11.672555",
     "status": "completed"
    },
    "tags": []
   },
   "outputs": [],
   "source": [
    "ML = HOOP.ml(HOOP)"
   ]
  },
  {
   "cell_type": "markdown",
   "id": "13604068",
   "metadata": {
    "papermill": {
     "duration": 0.151194,
     "end_time": "2021-09-28T21:34:12.139047",
     "exception": false,
     "start_time": "2021-09-28T21:34:11.987853",
     "status": "completed"
    },
    "tags": []
   },
   "source": [
    "<a id=\"4.1\"></a>\n",
    "<h1>Show the available algorithms</h1>"
   ]
  },
  {
   "cell_type": "code",
   "execution_count": null,
   "id": "58e43331",
   "metadata": {
    "execution": {
     "iopub.execute_input": "2021-09-28T21:34:12.440182Z",
     "iopub.status.busy": "2021-09-28T21:34:12.439546Z",
     "iopub.status.idle": "2021-09-28T21:34:12.447992Z",
     "shell.execute_reply": "2021-09-28T21:34:12.446950Z",
     "shell.execute_reply.started": "2021-09-28T21:16:17.468391Z"
    },
    "papermill": {
     "duration": 0.159181,
     "end_time": "2021-09-28T21:34:12.448293",
     "exception": false,
     "start_time": "2021-09-28T21:34:12.289112",
     "status": "completed"
    },
    "tags": []
   },
   "outputs": [],
   "source": [
    "ML.show_available_algorithms()"
   ]
  },
  {
   "cell_type": "markdown",
   "id": "13623192",
   "metadata": {
    "papermill": {
     "duration": 0.148576,
     "end_time": "2021-09-28T21:34:12.746564",
     "exception": false,
     "start_time": "2021-09-28T21:34:12.597988",
     "status": "completed"
    },
    "tags": []
   },
   "source": [
    "<a id=\"4.2\"></a>\n",
    "<h1>Initialize the ML Regressors</h1>"
   ]
  },
  {
   "cell_type": "code",
   "execution_count": null,
   "id": "d8b9c732",
   "metadata": {
    "execution": {
     "iopub.execute_input": "2021-09-28T21:34:13.050179Z",
     "iopub.status.busy": "2021-09-28T21:34:13.049507Z",
     "iopub.status.idle": "2021-09-28T21:34:13.055213Z",
     "shell.execute_reply": "2021-09-28T21:34:13.055780Z",
     "shell.execute_reply.started": "2021-09-28T21:16:17.478387Z"
    },
    "papermill": {
     "duration": 0.160337,
     "end_time": "2021-09-28T21:34:13.055949",
     "exception": false,
     "start_time": "2021-09-28T21:34:12.895612",
     "status": "completed"
    },
    "tags": []
   },
   "outputs": [],
   "source": [
    "ML.init_regressors('all')"
   ]
  },
  {
   "cell_type": "markdown",
   "id": "5e212c17",
   "metadata": {
    "papermill": {
     "duration": 0.148748,
     "end_time": "2021-09-28T21:34:13.354994",
     "exception": false,
     "start_time": "2021-09-28T21:34:13.206246",
     "status": "completed"
    },
    "tags": []
   },
   "source": [
    "<a href=\"#outlines\"><b>Up to outlines</b>"
   ]
  },
  {
   "cell_type": "markdown",
   "id": "29ee4329",
   "metadata": {
    "papermill": {
     "duration": 0.148657,
     "end_time": "2021-09-28T21:34:13.655097",
     "exception": false,
     "start_time": "2021-09-28T21:34:13.506440",
     "status": "completed"
    },
    "tags": []
   },
   "source": [
    "<a id=\"4.3\"></a>\n",
    "<h1>Train-Test Validation</h1>"
   ]
  },
  {
   "cell_type": "code",
   "execution_count": null,
   "id": "f6457b39",
   "metadata": {
    "execution": {
     "iopub.execute_input": "2021-09-28T21:34:13.967521Z",
     "iopub.status.busy": "2021-09-28T21:34:13.961933Z",
     "iopub.status.idle": "2021-09-28T21:34:38.522137Z",
     "shell.execute_reply": "2021-09-28T21:34:38.522845Z",
     "shell.execute_reply.started": "2021-09-28T21:16:17.492902Z"
    },
    "papermill": {
     "duration": 24.719472,
     "end_time": "2021-09-28T21:34:38.523101",
     "exception": false,
     "start_time": "2021-09-28T21:34:13.803629",
     "status": "completed"
    },
    "tags": []
   },
   "outputs": [],
   "source": [
    "ML.train_test_validation()"
   ]
  },
  {
   "cell_type": "markdown",
   "id": "294806cc",
   "metadata": {
    "papermill": {
     "duration": 0.149919,
     "end_time": "2021-09-28T21:34:38.828685",
     "exception": false,
     "start_time": "2021-09-28T21:34:38.678766",
     "status": "completed"
    },
    "tags": []
   },
   "source": [
    "<a id=\"4.4\"></a>\n",
    "<h1>Visualize the results of train-test validation</h1>"
   ]
  },
  {
   "cell_type": "code",
   "execution_count": null,
   "id": "8ee8f959",
   "metadata": {
    "execution": {
     "iopub.execute_input": "2021-09-28T21:34:39.144155Z",
     "iopub.status.busy": "2021-09-28T21:34:39.143526Z",
     "iopub.status.idle": "2021-09-28T21:34:39.668074Z",
     "shell.execute_reply": "2021-09-28T21:34:39.668596Z",
     "shell.execute_reply.started": "2021-09-28T21:16:41.550891Z"
    },
    "papermill": {
     "duration": 0.688901,
     "end_time": "2021-09-28T21:34:39.668775",
     "exception": false,
     "start_time": "2021-09-28T21:34:38.979874",
     "status": "completed"
    },
    "tags": []
   },
   "outputs": [],
   "source": [
    "ML.visualize_trai_test()"
   ]
  },
  {
   "cell_type": "markdown",
   "id": "cc5e6369",
   "metadata": {
    "papermill": {
     "duration": 0.183076,
     "end_time": "2021-09-28T21:34:40.039699",
     "exception": false,
     "start_time": "2021-09-28T21:34:39.856623",
     "status": "completed"
    },
    "tags": []
   },
   "source": [
    "<a href=\"#outlines\"><b>Up to outlines</b>"
   ]
  },
  {
   "cell_type": "markdown",
   "id": "bd9018d8",
   "metadata": {
    "papermill": {
     "duration": 0.186431,
     "end_time": "2021-09-28T21:34:40.410877",
     "exception": false,
     "start_time": "2021-09-28T21:34:40.224446",
     "status": "completed"
    },
    "tags": []
   },
   "source": [
    "<a id=\"4.5\"></a>\n",
    "<h1>Applying Cross-Validation</h1>"
   ]
  },
  {
   "cell_type": "code",
   "execution_count": null,
   "id": "e672c5c8",
   "metadata": {
    "execution": {
     "iopub.execute_input": "2021-09-28T21:34:40.795779Z",
     "iopub.status.busy": "2021-09-28T21:34:40.795065Z",
     "iopub.status.idle": "2021-09-28T21:38:26.439057Z",
     "shell.execute_reply": "2021-09-28T21:38:26.438546Z",
     "shell.execute_reply.started": "2021-09-28T21:16:41.940365Z"
    },
    "papermill": {
     "duration": 225.841258,
     "end_time": "2021-09-28T21:38:26.439203",
     "exception": false,
     "start_time": "2021-09-28T21:34:40.597945",
     "status": "completed"
    },
    "tags": []
   },
   "outputs": [],
   "source": [
    "ML.cross_validation('all')"
   ]
  },
  {
   "cell_type": "markdown",
   "id": "20ab6c45",
   "metadata": {
    "papermill": {
     "duration": 0.187973,
     "end_time": "2021-09-28T21:38:26.814440",
     "exception": false,
     "start_time": "2021-09-28T21:38:26.626467",
     "status": "completed"
    },
    "tags": []
   },
   "source": [
    "<a id=\"4.6\"></a>\n",
    "<h1>Visualize the results of Cross-Validation</h1>"
   ]
  },
  {
   "cell_type": "code",
   "execution_count": null,
   "id": "5d4197a9",
   "metadata": {
    "execution": {
     "iopub.execute_input": "2021-09-28T21:38:27.200881Z",
     "iopub.status.busy": "2021-09-28T21:38:27.196459Z",
     "iopub.status.idle": "2021-09-28T21:38:27.481013Z",
     "shell.execute_reply": "2021-09-28T21:38:27.480428Z",
     "shell.execute_reply.started": "2021-09-28T21:20:26.788866Z"
    },
    "papermill": {
     "duration": 0.477487,
     "end_time": "2021-09-28T21:38:27.481153",
     "exception": false,
     "start_time": "2021-09-28T21:38:27.003666",
     "status": "completed"
    },
    "tags": []
   },
   "outputs": [],
   "source": [
    "ML.visualize_cv()"
   ]
  },
  {
   "cell_type": "markdown",
   "id": "8aedc935",
   "metadata": {
    "papermill": {
     "duration": 0.215574,
     "end_time": "2021-09-28T21:38:27.915942",
     "exception": false,
     "start_time": "2021-09-28T21:38:27.700368",
     "status": "completed"
    },
    "tags": []
   },
   "source": [
    "<a href=\"#outlines\"><b>Up to outlines</b>"
   ]
  },
  {
   "cell_type": "markdown",
   "id": "90e6cd2a",
   "metadata": {
    "papermill": {
     "duration": 0.219274,
     "end_time": "2021-09-28T21:38:28.354359",
     "exception": false,
     "start_time": "2021-09-28T21:38:28.135085",
     "status": "completed"
    },
    "tags": []
   },
   "source": [
    "<a id=\"4.7\"></a>\n",
    "<h1>Find the best model and fit it to the data</h1>"
   ]
  },
  {
   "cell_type": "code",
   "execution_count": null,
   "id": "c734714e",
   "metadata": {
    "execution": {
     "iopub.execute_input": "2021-09-28T21:38:28.798781Z",
     "iopub.status.busy": "2021-09-28T21:38:28.797829Z",
     "iopub.status.idle": "2021-09-28T21:38:40.176808Z",
     "shell.execute_reply": "2021-09-28T21:38:40.175961Z",
     "shell.execute_reply.started": "2021-09-28T21:20:27.080172Z"
    },
    "papermill": {
     "duration": 11.602621,
     "end_time": "2021-09-28T21:38:40.177010",
     "exception": false,
     "start_time": "2021-09-28T21:38:28.574389",
     "status": "completed"
    },
    "scrolled": true,
    "tags": []
   },
   "outputs": [],
   "source": [
    "ML.fit_best_model()"
   ]
  },
  {
   "cell_type": "markdown",
   "id": "c941602f",
   "metadata": {
    "papermill": {
     "duration": 0.222868,
     "end_time": "2021-09-28T21:38:40.628116",
     "exception": false,
     "start_time": "2021-09-28T21:38:40.405248",
     "status": "completed"
    },
    "tags": []
   },
   "source": [
    "<a id=\"4.8\"></a>\n",
    "<h1>Predict and show the prediction</h1>"
   ]
  },
  {
   "cell_type": "code",
   "execution_count": null,
   "id": "8a4737e5",
   "metadata": {
    "execution": {
     "iopub.execute_input": "2021-09-28T21:38:41.086852Z",
     "iopub.status.busy": "2021-09-28T21:38:41.085866Z",
     "iopub.status.idle": "2021-09-28T21:38:41.100742Z",
     "shell.execute_reply": "2021-09-28T21:38:41.101285Z",
     "shell.execute_reply.started": "2021-09-28T21:20:38.540632Z"
    },
    "papermill": {
     "duration": 0.248783,
     "end_time": "2021-09-28T21:38:41.101459",
     "exception": false,
     "start_time": "2021-09-28T21:38:40.852676",
     "status": "completed"
    },
    "tags": []
   },
   "outputs": [],
   "source": [
    "ML.show_predictions()"
   ]
  },
  {
   "cell_type": "markdown",
   "id": "ed86ac7a",
   "metadata": {
    "papermill": {
     "duration": 0.242871,
     "end_time": "2021-09-28T21:38:41.567733",
     "exception": false,
     "start_time": "2021-09-28T21:38:41.324862",
     "status": "completed"
    },
    "tags": []
   },
   "source": [
    "<a id=\"4.9\"></a>\n",
    "<h1>Save the predictions to a csv file</h1>"
   ]
  },
  {
   "cell_type": "code",
   "execution_count": null,
   "id": "ca6b5746",
   "metadata": {
    "execution": {
     "iopub.execute_input": "2021-09-28T21:38:42.013259Z",
     "iopub.status.busy": "2021-09-28T21:38:42.012084Z",
     "iopub.status.idle": "2021-09-28T21:38:42.015538Z",
     "shell.execute_reply": "2021-09-28T21:38:42.014906Z",
     "shell.execute_reply.started": "2021-09-28T21:20:38.566044Z"
    },
    "papermill": {
     "duration": 0.227607,
     "end_time": "2021-09-28T21:38:42.015685",
     "exception": false,
     "start_time": "2021-09-28T21:38:41.788078",
     "status": "completed"
    },
    "tags": []
   },
   "outputs": [],
   "source": [
    "# ML.save_predictions('Results')"
   ]
  },
  {
   "cell_type": "markdown",
   "id": "3c2ecc3c",
   "metadata": {
    "papermill": {
     "duration": 0.225701,
     "end_time": "2021-09-28T21:38:42.464386",
     "exception": false,
     "start_time": "2021-09-28T21:38:42.238685",
     "status": "completed"
    },
    "tags": []
   },
   "source": [
    "<a href=\"#outlines\"><b>Up to outlines</b>"
   ]
  },
  {
   "cell_type": "markdown",
   "id": "3e6398c1",
   "metadata": {
    "papermill": {
     "duration": 0.225145,
     "end_time": "2021-09-28T21:38:42.909956",
     "exception": false,
     "start_time": "2021-09-28T21:38:42.684811",
     "status": "completed"
    },
    "tags": []
   },
   "source": [
    "<h2 align=\"center\" style='color:red' > If you liked the notebook or learned something please <b>Upvote</b>! </h2>\n",
    "<p style=\"background-color:skyblue; font-family:newtimeroman; font-size:200%; text-align:center; border-radius: 10px 100px;\">You can also see:</p>\n",
    "<ul>\n",
    "<li><b><a href='https://www.kaggle.com/alaasedeeq/predicting-the-survival-of-titanic-top-6'>Predicting the Survival of Titanic (Top 6%)</a>\n",
    "<li><b><a href='https://www.kaggle.com/alaasedeeq/house-price-prediction-top-8'>\n",
    "✔ House Price prediction(Top 8%)</a>\n",
    "<li><b><a href='https://www.kaggle.com/alaasedeeq/prediction-of-heart-disease-machine-learning'>Prediction of Heart Disease (Machine Learning)</a>\n",
    "<li><b><a href='https://www.kaggle.com/alaasedeeq/data-exploration-and-visualization-uber-data'>Data exploration and visualization(Uber Data)</a><br>\n",
    "<li><b><a href='https://www.kaggle.com/alaasedeeq/hotel-booking-eda-cufflinks-and-plotly'>Hotel booking EDA (Cufflinks and plotly)\n",
    "</a><br>\n",
    "<li><b><a href='https://www.kaggle.com/alaasedeeq/suicide-rates-visualization-and-geographic-maps/edit/run/53135916'>Suicide Rates visualization and Geographic maps</a>\n",
    "<li><b><a href='https://www.kaggle.com/alaasedeeq/superstore-data-analysis-with-plotly-clustering'>Superstore Data Analysis With Plotly(Clustering)</a>\n",
    "<li><b><a href='https://www.kaggle.com/alaasedeeq/superstore-analysis-with-cufflinks-and-pandas'>Superstore Analysis With Cufflinks and pandas</a>\n",
    "<li><b><a href='https://www.kaggle.com/alaasedeeq/learn-data-analysis-using-sql-and-pandas'>Learn Data Analysis using SQL and Pandas</a>\n",
    "<li><b><a href='https://www.kaggle.com/alaasedeeq/european-soccer-database-with-sqlite3'>European soccer database with sqlite3</a>\n",
    "<li><b><a href='https://www.kaggle.com/alaasedeeq/chinook-questions-with-sqlite'>Chinook data questions with sqlite3</a>"
   ]
  },
  {
   "cell_type": "markdown",
   "id": "4c543e45",
   "metadata": {
    "papermill": {
     "duration": 0.219064,
     "end_time": "2021-09-28T21:38:43.349654",
     "exception": false,
     "start_time": "2021-09-28T21:38:43.130590",
     "status": "completed"
    },
    "tags": []
   },
   "source": [
    "### <h1 align=\"center\" style=\"color:red \">Thanks for reading</h1>"
   ]
  }
 ],
 "metadata": {
  "kernelspec": {
   "display_name": "librosa",
   "language": "python",
   "name": "python3"
  },
  "language_info": {
   "codemirror_mode": {
    "name": "ipython",
    "version": 3
   },
   "file_extension": ".py",
   "mimetype": "text/x-python",
   "name": "python",
   "nbconvert_exporter": "python",
   "pygments_lexer": "ipython3",
   "version": "3.10.4 (main, Mar 31 2022, 08:41:55) [GCC 7.5.0]"
  },
  "papermill": {
   "default_parameters": {},
   "duration": 298.082005,
   "end_time": "2021-09-28T21:38:44.582774",
   "environment_variables": {},
   "exception": null,
   "input_path": "__notebook__.ipynb",
   "output_path": "__notebook__.ipynb",
   "parameters": {},
   "start_time": "2021-09-28T21:33:46.500769",
   "version": "2.3.3"
  },
  "vscode": {
   "interpreter": {
    "hash": "68990369dbd1e9394bee0e5a26ce0dcb2645a620c500056b6bd9de852964a963"
   }
  }
 },
 "nbformat": 4,
 "nbformat_minor": 5
}
